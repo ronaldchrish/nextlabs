{
  "nbformat": 4,
  "nbformat_minor": 0,
  "metadata": {
    "colab": {
      "name": "ranking data.ipynb",
      "provenance": []
    },
    "kernelspec": {
      "name": "python3",
      "display_name": "Python 3"
    },
    "language_info": {
      "name": "python"
    }
  },
  "cells": [
    {
      "cell_type": "markdown",
      "source": [
        "Ranking Data - Understanding the co-relation between keyword rankings with description or any other attribute. Here’s the dataset. \n",
        "Suggested questions:\n",
        "Is there any co-relation between short description, long description and ranking? Does the placement of keyword (for example - using a keyword in the first 10 words - have any co-relation with the ranking)?\n",
        "Does APP ID (Also known as package name) play any role in ranking?  \n",
        "Any other pattern or good questions that you can think of and answer?\n"
      ],
      "metadata": {
        "id": "rKm3LjZy4w0_"
      }
    },
    {
      "cell_type": "code",
      "source": [
        "import pandas as pd\n",
        "import numpy as np\n",
        "import re\n",
        "import string"
      ],
      "metadata": {
        "id": "GR5DaTSn4wT7"
      },
      "execution_count": 1,
      "outputs": []
    },
    {
      "cell_type": "code",
      "source": [
        "## for rest the colum use header\n",
        "data = pd.read_csv('browser_rankings_data (1).csv',header=1)"
      ],
      "metadata": {
        "id": "RYHx-ARx43By"
      },
      "execution_count": 2,
      "outputs": []
    },
    {
      "cell_type": "code",
      "source": [
        "data.head()"
      ],
      "metadata": {
        "colab": {
          "base_uri": "https://localhost:8080/",
          "height": 354
        },
        "id": "0SVSVsHk4287",
        "outputId": "69dff522-a89e-44fd-eaf6-85081bfb819a"
      },
      "execution_count": 3,
      "outputs": [
        {
          "output_type": "execute_result",
          "data": {
            "text/plain": [
              "   ID  Keyword  Rank Country Language        Date                  App ID  \\\n",
              "0   1  browser   2.0      in       en  2020-12-16    net.fast.web.browser   \n",
              "1   2  browser   3.0      in       en  2020-12-16      com.android.chrome   \n",
              "2   3  browser   4.0      in       en  2020-12-16       com.opera.browser   \n",
              "3   3  browser   4.0      in       en  2020-12-16       com.opera.browser   \n",
              "4   4  browser   1.0      in       en  2020-12-16  com.cloudmosa.puffinTV   \n",
              "\n",
              "  Date of Last Description Change  \\\n",
              "0                      2020-12-18   \n",
              "1                      2020-12-18   \n",
              "2                      2021-02-27   \n",
              "3                      2020-12-18   \n",
              "4                      2021-02-07   \n",
              "\n",
              "                                   Short Description  \\\n",
              "0  The small, fastest, secure Web Browser, best m...   \n",
              "1  Fast, simple, and secure. Google Chrome browse...   \n",
              "2  Fast, safe web browser: free VPN, Ad blocker, ...   \n",
              "3  Fast, safe web browser: free VPN, Ad blocker, ...   \n",
              "4  Puffin TV Browser - One App to Watch All Video...   \n",
              "\n",
              "                                    Long Description  \n",
              "0  One of the smallest, fastest, secure Web Brows...  \n",
              "1  Google Chrome is a fast, easy to use, and secu...  \n",
              "2  Fast, safe and private, introducing the latest...  \n",
              "3  Opera is a fast, safe web browser for your And...  \n",
              "4  Puffin TV Browser is a special edition of Puff...  "
            ],
            "text/html": [
              "\n",
              "  <div id=\"df-f5cbc263-5ada-446c-aaaa-34183602c5df\">\n",
              "    <div class=\"colab-df-container\">\n",
              "      <div>\n",
              "<style scoped>\n",
              "    .dataframe tbody tr th:only-of-type {\n",
              "        vertical-align: middle;\n",
              "    }\n",
              "\n",
              "    .dataframe tbody tr th {\n",
              "        vertical-align: top;\n",
              "    }\n",
              "\n",
              "    .dataframe thead th {\n",
              "        text-align: right;\n",
              "    }\n",
              "</style>\n",
              "<table border=\"1\" class=\"dataframe\">\n",
              "  <thead>\n",
              "    <tr style=\"text-align: right;\">\n",
              "      <th></th>\n",
              "      <th>ID</th>\n",
              "      <th>Keyword</th>\n",
              "      <th>Rank</th>\n",
              "      <th>Country</th>\n",
              "      <th>Language</th>\n",
              "      <th>Date</th>\n",
              "      <th>App ID</th>\n",
              "      <th>Date of Last Description Change</th>\n",
              "      <th>Short Description</th>\n",
              "      <th>Long Description</th>\n",
              "    </tr>\n",
              "  </thead>\n",
              "  <tbody>\n",
              "    <tr>\n",
              "      <th>0</th>\n",
              "      <td>1</td>\n",
              "      <td>browser</td>\n",
              "      <td>2.0</td>\n",
              "      <td>in</td>\n",
              "      <td>en</td>\n",
              "      <td>2020-12-16</td>\n",
              "      <td>net.fast.web.browser</td>\n",
              "      <td>2020-12-18</td>\n",
              "      <td>The small, fastest, secure Web Browser, best m...</td>\n",
              "      <td>One of the smallest, fastest, secure Web Brows...</td>\n",
              "    </tr>\n",
              "    <tr>\n",
              "      <th>1</th>\n",
              "      <td>2</td>\n",
              "      <td>browser</td>\n",
              "      <td>3.0</td>\n",
              "      <td>in</td>\n",
              "      <td>en</td>\n",
              "      <td>2020-12-16</td>\n",
              "      <td>com.android.chrome</td>\n",
              "      <td>2020-12-18</td>\n",
              "      <td>Fast, simple, and secure. Google Chrome browse...</td>\n",
              "      <td>Google Chrome is a fast, easy to use, and secu...</td>\n",
              "    </tr>\n",
              "    <tr>\n",
              "      <th>2</th>\n",
              "      <td>3</td>\n",
              "      <td>browser</td>\n",
              "      <td>4.0</td>\n",
              "      <td>in</td>\n",
              "      <td>en</td>\n",
              "      <td>2020-12-16</td>\n",
              "      <td>com.opera.browser</td>\n",
              "      <td>2021-02-27</td>\n",
              "      <td>Fast, safe web browser: free VPN, Ad blocker, ...</td>\n",
              "      <td>Fast, safe and private, introducing the latest...</td>\n",
              "    </tr>\n",
              "    <tr>\n",
              "      <th>3</th>\n",
              "      <td>3</td>\n",
              "      <td>browser</td>\n",
              "      <td>4.0</td>\n",
              "      <td>in</td>\n",
              "      <td>en</td>\n",
              "      <td>2020-12-16</td>\n",
              "      <td>com.opera.browser</td>\n",
              "      <td>2020-12-18</td>\n",
              "      <td>Fast, safe web browser: free VPN, Ad blocker, ...</td>\n",
              "      <td>Opera is a fast, safe web browser for your And...</td>\n",
              "    </tr>\n",
              "    <tr>\n",
              "      <th>4</th>\n",
              "      <td>4</td>\n",
              "      <td>browser</td>\n",
              "      <td>1.0</td>\n",
              "      <td>in</td>\n",
              "      <td>en</td>\n",
              "      <td>2020-12-16</td>\n",
              "      <td>com.cloudmosa.puffinTV</td>\n",
              "      <td>2021-02-07</td>\n",
              "      <td>Puffin TV Browser - One App to Watch All Video...</td>\n",
              "      <td>Puffin TV Browser is a special edition of Puff...</td>\n",
              "    </tr>\n",
              "  </tbody>\n",
              "</table>\n",
              "</div>\n",
              "      <button class=\"colab-df-convert\" onclick=\"convertToInteractive('df-f5cbc263-5ada-446c-aaaa-34183602c5df')\"\n",
              "              title=\"Convert this dataframe to an interactive table.\"\n",
              "              style=\"display:none;\">\n",
              "        \n",
              "  <svg xmlns=\"http://www.w3.org/2000/svg\" height=\"24px\"viewBox=\"0 0 24 24\"\n",
              "       width=\"24px\">\n",
              "    <path d=\"M0 0h24v24H0V0z\" fill=\"none\"/>\n",
              "    <path d=\"M18.56 5.44l.94 2.06.94-2.06 2.06-.94-2.06-.94-.94-2.06-.94 2.06-2.06.94zm-11 1L8.5 8.5l.94-2.06 2.06-.94-2.06-.94L8.5 2.5l-.94 2.06-2.06.94zm10 10l.94 2.06.94-2.06 2.06-.94-2.06-.94-.94-2.06-.94 2.06-2.06.94z\"/><path d=\"M17.41 7.96l-1.37-1.37c-.4-.4-.92-.59-1.43-.59-.52 0-1.04.2-1.43.59L10.3 9.45l-7.72 7.72c-.78.78-.78 2.05 0 2.83L4 21.41c.39.39.9.59 1.41.59.51 0 1.02-.2 1.41-.59l7.78-7.78 2.81-2.81c.8-.78.8-2.07 0-2.86zM5.41 20L4 18.59l7.72-7.72 1.47 1.35L5.41 20z\"/>\n",
              "  </svg>\n",
              "      </button>\n",
              "      \n",
              "  <style>\n",
              "    .colab-df-container {\n",
              "      display:flex;\n",
              "      flex-wrap:wrap;\n",
              "      gap: 12px;\n",
              "    }\n",
              "\n",
              "    .colab-df-convert {\n",
              "      background-color: #E8F0FE;\n",
              "      border: none;\n",
              "      border-radius: 50%;\n",
              "      cursor: pointer;\n",
              "      display: none;\n",
              "      fill: #1967D2;\n",
              "      height: 32px;\n",
              "      padding: 0 0 0 0;\n",
              "      width: 32px;\n",
              "    }\n",
              "\n",
              "    .colab-df-convert:hover {\n",
              "      background-color: #E2EBFA;\n",
              "      box-shadow: 0px 1px 2px rgba(60, 64, 67, 0.3), 0px 1px 3px 1px rgba(60, 64, 67, 0.15);\n",
              "      fill: #174EA6;\n",
              "    }\n",
              "\n",
              "    [theme=dark] .colab-df-convert {\n",
              "      background-color: #3B4455;\n",
              "      fill: #D2E3FC;\n",
              "    }\n",
              "\n",
              "    [theme=dark] .colab-df-convert:hover {\n",
              "      background-color: #434B5C;\n",
              "      box-shadow: 0px 1px 3px 1px rgba(0, 0, 0, 0.15);\n",
              "      filter: drop-shadow(0px 1px 2px rgba(0, 0, 0, 0.3));\n",
              "      fill: #FFFFFF;\n",
              "    }\n",
              "  </style>\n",
              "\n",
              "      <script>\n",
              "        const buttonEl =\n",
              "          document.querySelector('#df-f5cbc263-5ada-446c-aaaa-34183602c5df button.colab-df-convert');\n",
              "        buttonEl.style.display =\n",
              "          google.colab.kernel.accessAllowed ? 'block' : 'none';\n",
              "\n",
              "        async function convertToInteractive(key) {\n",
              "          const element = document.querySelector('#df-f5cbc263-5ada-446c-aaaa-34183602c5df');\n",
              "          const dataTable =\n",
              "            await google.colab.kernel.invokeFunction('convertToInteractive',\n",
              "                                                     [key], {});\n",
              "          if (!dataTable) return;\n",
              "\n",
              "          const docLinkHtml = 'Like what you see? Visit the ' +\n",
              "            '<a target=\"_blank\" href=https://colab.research.google.com/notebooks/data_table.ipynb>data table notebook</a>'\n",
              "            + ' to learn more about interactive tables.';\n",
              "          element.innerHTML = '';\n",
              "          dataTable['output_type'] = 'display_data';\n",
              "          await google.colab.output.renderOutput(dataTable, element);\n",
              "          const docLink = document.createElement('div');\n",
              "          docLink.innerHTML = docLinkHtml;\n",
              "          element.appendChild(docLink);\n",
              "        }\n",
              "      </script>\n",
              "    </div>\n",
              "  </div>\n",
              "  "
            ]
          },
          "metadata": {},
          "execution_count": 3
        }
      ]
    },
    {
      "cell_type": "code",
      "source": [
        "data.shape"
      ],
      "metadata": {
        "colab": {
          "base_uri": "https://localhost:8080/"
        },
        "id": "o_Jl6IrI424O",
        "outputId": "3f2a60c1-dfea-4b1a-d50d-2d431af0e4fc"
      },
      "execution_count": 4,
      "outputs": [
        {
          "output_type": "execute_result",
          "data": {
            "text/plain": [
              "(3066, 10)"
            ]
          },
          "metadata": {},
          "execution_count": 4
        }
      ]
    },
    {
      "cell_type": "code",
      "source": [
        "data.isnull().sum()"
      ],
      "metadata": {
        "colab": {
          "base_uri": "https://localhost:8080/"
        },
        "id": "ZT_Tqu8b420K",
        "outputId": "b449188a-9974-4513-9bcd-68b3951e1e39"
      },
      "execution_count": 5,
      "outputs": [
        {
          "output_type": "execute_result",
          "data": {
            "text/plain": [
              "ID                                  0\n",
              "Keyword                             0\n",
              "Rank                               16\n",
              "Country                             0\n",
              "Language                            0\n",
              "Date                                0\n",
              "App ID                              0\n",
              "Date of Last Description Change     0\n",
              "Short Description                   0\n",
              "Long Description                    0\n",
              "dtype: int64"
            ]
          },
          "metadata": {},
          "execution_count": 5
        }
      ]
    },
    {
      "cell_type": "code",
      "source": [
        "data.info"
      ],
      "metadata": {
        "colab": {
          "base_uri": "https://localhost:8080/"
        },
        "id": "KwgZvpva67HD",
        "outputId": "69e63bfa-2758-4bfa-9ce8-0861d435f5fb"
      },
      "execution_count": 6,
      "outputs": [
        {
          "output_type": "execute_result",
          "data": {
            "text/plain": [
              "<bound method DataFrame.info of           ID          Keyword  Rank Country Language        Date  \\\n",
              "0          1          browser   2.0      in       en  2020-12-16   \n",
              "1          2          browser   3.0      in       en  2020-12-16   \n",
              "2          3          browser   4.0      in       en  2020-12-16   \n",
              "3          3          browser   4.0      in       en  2020-12-16   \n",
              "4          4          browser   1.0      in       en  2020-12-16   \n",
              "...      ...              ...   ...     ...      ...         ...   \n",
              "3061  131575  android browser   7.0      in       en  2021-03-06   \n",
              "3062  131576  android browser   5.0      in       en  2021-03-06   \n",
              "3063  131576  android browser   5.0      in       en  2021-03-06   \n",
              "3064  131576  android browser   5.0      in       en  2021-03-06   \n",
              "3065  131576  android browser   5.0      in       en  2021-03-06   \n",
              "\n",
              "                      App ID Date of Last Description Change  \\\n",
              "0       net.fast.web.browser                      2020-12-18   \n",
              "1         com.android.chrome                      2020-12-18   \n",
              "2          com.opera.browser                      2021-02-27   \n",
              "3          com.opera.browser                      2020-12-18   \n",
              "4     com.cloudmosa.puffinTV                      2021-02-07   \n",
              "...                      ...                             ...   \n",
              "3061       com.opera.browser                      2020-12-18   \n",
              "3062  com.cloudmosa.puffinTV                      2021-02-07   \n",
              "3063  com.cloudmosa.puffinTV                      2021-02-06   \n",
              "3064  com.cloudmosa.puffinTV                      2021-01-21   \n",
              "3065  com.cloudmosa.puffinTV                      2020-12-18   \n",
              "\n",
              "                                      Short Description  \\\n",
              "0     The small, fastest, secure Web Browser, best m...   \n",
              "1     Fast, simple, and secure. Google Chrome browse...   \n",
              "2     Fast, safe web browser: free VPN, Ad blocker, ...   \n",
              "3     Fast, safe web browser: free VPN, Ad blocker, ...   \n",
              "4     Puffin TV Browser - One App to Watch All Video...   \n",
              "...                                                 ...   \n",
              "3061  Fast, safe web browser: free VPN, Ad blocker, ...   \n",
              "3062  Puffin TV Browser - One App to Watch All Video...   \n",
              "3063  Puffin TV Browser - One App to Watch All Video...   \n",
              "3064  Puffin TV Browser - One App to Watch All Video...   \n",
              "3065  Puffin TV Browser - One App to Watch All Video...   \n",
              "\n",
              "                                       Long Description  \n",
              "0     One of the smallest, fastest, secure Web Brows...  \n",
              "1     Google Chrome is a fast, easy to use, and secu...  \n",
              "2     Fast, safe and private, introducing the latest...  \n",
              "3     Opera is a fast, safe web browser for your And...  \n",
              "4     Puffin TV Browser is a special edition of Puff...  \n",
              "...                                                 ...  \n",
              "3061  Opera is a fast, safe web browser for your And...  \n",
              "3062  Puffin TV Browser is a special edition of Puff...  \n",
              "3063  Puffin TV Browser is a special edition of Puff...  \n",
              "3064  Puffin TV Browser is a special edition of Puff...  \n",
              "3065  Puffin TV Browser is a special edition of Puff...  \n",
              "\n",
              "[3066 rows x 10 columns]>"
            ]
          },
          "metadata": {},
          "execution_count": 6
        }
      ]
    },
    {
      "cell_type": "code",
      "source": [
        " data = data.dropna()"
      ],
      "metadata": {
        "id": "6wDzeOgU7P3b"
      },
      "execution_count": 7,
      "outputs": []
    },
    {
      "cell_type": "code",
      "source": [
        "data.shape"
      ],
      "metadata": {
        "colab": {
          "base_uri": "https://localhost:8080/"
        },
        "id": "hEcSRmZd7P_3",
        "outputId": "02a68ce2-e3bc-4221-8442-5cd4d1074367"
      },
      "execution_count": 8,
      "outputs": [
        {
          "output_type": "execute_result",
          "data": {
            "text/plain": [
              "(3050, 10)"
            ]
          },
          "metadata": {},
          "execution_count": 8
        }
      ]
    },
    {
      "cell_type": "code",
      "source": [
        "data"
      ],
      "metadata": {
        "colab": {
          "base_uri": "https://localhost:8080/",
          "height": 658
        },
        "id": "ZlqT6Oia7QFi",
        "outputId": "6af9e226-14b7-4f7c-9234-c2763b098f19"
      },
      "execution_count": 9,
      "outputs": [
        {
          "output_type": "execute_result",
          "data": {
            "text/plain": [
              "          ID          Keyword  Rank Country Language        Date  \\\n",
              "0          1          browser   2.0      in       en  2020-12-16   \n",
              "1          2          browser   3.0      in       en  2020-12-16   \n",
              "2          3          browser   4.0      in       en  2020-12-16   \n",
              "3          3          browser   4.0      in       en  2020-12-16   \n",
              "4          4          browser   1.0      in       en  2020-12-16   \n",
              "...      ...              ...   ...     ...      ...         ...   \n",
              "3061  131575  android browser   7.0      in       en  2021-03-06   \n",
              "3062  131576  android browser   5.0      in       en  2021-03-06   \n",
              "3063  131576  android browser   5.0      in       en  2021-03-06   \n",
              "3064  131576  android browser   5.0      in       en  2021-03-06   \n",
              "3065  131576  android browser   5.0      in       en  2021-03-06   \n",
              "\n",
              "                      App ID Date of Last Description Change  \\\n",
              "0       net.fast.web.browser                      2020-12-18   \n",
              "1         com.android.chrome                      2020-12-18   \n",
              "2          com.opera.browser                      2021-02-27   \n",
              "3          com.opera.browser                      2020-12-18   \n",
              "4     com.cloudmosa.puffinTV                      2021-02-07   \n",
              "...                      ...                             ...   \n",
              "3061       com.opera.browser                      2020-12-18   \n",
              "3062  com.cloudmosa.puffinTV                      2021-02-07   \n",
              "3063  com.cloudmosa.puffinTV                      2021-02-06   \n",
              "3064  com.cloudmosa.puffinTV                      2021-01-21   \n",
              "3065  com.cloudmosa.puffinTV                      2020-12-18   \n",
              "\n",
              "                                      Short Description  \\\n",
              "0     The small, fastest, secure Web Browser, best m...   \n",
              "1     Fast, simple, and secure. Google Chrome browse...   \n",
              "2     Fast, safe web browser: free VPN, Ad blocker, ...   \n",
              "3     Fast, safe web browser: free VPN, Ad blocker, ...   \n",
              "4     Puffin TV Browser - One App to Watch All Video...   \n",
              "...                                                 ...   \n",
              "3061  Fast, safe web browser: free VPN, Ad blocker, ...   \n",
              "3062  Puffin TV Browser - One App to Watch All Video...   \n",
              "3063  Puffin TV Browser - One App to Watch All Video...   \n",
              "3064  Puffin TV Browser - One App to Watch All Video...   \n",
              "3065  Puffin TV Browser - One App to Watch All Video...   \n",
              "\n",
              "                                       Long Description  \n",
              "0     One of the smallest, fastest, secure Web Brows...  \n",
              "1     Google Chrome is a fast, easy to use, and secu...  \n",
              "2     Fast, safe and private, introducing the latest...  \n",
              "3     Opera is a fast, safe web browser for your And...  \n",
              "4     Puffin TV Browser is a special edition of Puff...  \n",
              "...                                                 ...  \n",
              "3061  Opera is a fast, safe web browser for your And...  \n",
              "3062  Puffin TV Browser is a special edition of Puff...  \n",
              "3063  Puffin TV Browser is a special edition of Puff...  \n",
              "3064  Puffin TV Browser is a special edition of Puff...  \n",
              "3065  Puffin TV Browser is a special edition of Puff...  \n",
              "\n",
              "[3050 rows x 10 columns]"
            ],
            "text/html": [
              "\n",
              "  <div id=\"df-59321de8-71b4-4c3d-bc1b-b2dfbcf78f03\">\n",
              "    <div class=\"colab-df-container\">\n",
              "      <div>\n",
              "<style scoped>\n",
              "    .dataframe tbody tr th:only-of-type {\n",
              "        vertical-align: middle;\n",
              "    }\n",
              "\n",
              "    .dataframe tbody tr th {\n",
              "        vertical-align: top;\n",
              "    }\n",
              "\n",
              "    .dataframe thead th {\n",
              "        text-align: right;\n",
              "    }\n",
              "</style>\n",
              "<table border=\"1\" class=\"dataframe\">\n",
              "  <thead>\n",
              "    <tr style=\"text-align: right;\">\n",
              "      <th></th>\n",
              "      <th>ID</th>\n",
              "      <th>Keyword</th>\n",
              "      <th>Rank</th>\n",
              "      <th>Country</th>\n",
              "      <th>Language</th>\n",
              "      <th>Date</th>\n",
              "      <th>App ID</th>\n",
              "      <th>Date of Last Description Change</th>\n",
              "      <th>Short Description</th>\n",
              "      <th>Long Description</th>\n",
              "    </tr>\n",
              "  </thead>\n",
              "  <tbody>\n",
              "    <tr>\n",
              "      <th>0</th>\n",
              "      <td>1</td>\n",
              "      <td>browser</td>\n",
              "      <td>2.0</td>\n",
              "      <td>in</td>\n",
              "      <td>en</td>\n",
              "      <td>2020-12-16</td>\n",
              "      <td>net.fast.web.browser</td>\n",
              "      <td>2020-12-18</td>\n",
              "      <td>The small, fastest, secure Web Browser, best m...</td>\n",
              "      <td>One of the smallest, fastest, secure Web Brows...</td>\n",
              "    </tr>\n",
              "    <tr>\n",
              "      <th>1</th>\n",
              "      <td>2</td>\n",
              "      <td>browser</td>\n",
              "      <td>3.0</td>\n",
              "      <td>in</td>\n",
              "      <td>en</td>\n",
              "      <td>2020-12-16</td>\n",
              "      <td>com.android.chrome</td>\n",
              "      <td>2020-12-18</td>\n",
              "      <td>Fast, simple, and secure. Google Chrome browse...</td>\n",
              "      <td>Google Chrome is a fast, easy to use, and secu...</td>\n",
              "    </tr>\n",
              "    <tr>\n",
              "      <th>2</th>\n",
              "      <td>3</td>\n",
              "      <td>browser</td>\n",
              "      <td>4.0</td>\n",
              "      <td>in</td>\n",
              "      <td>en</td>\n",
              "      <td>2020-12-16</td>\n",
              "      <td>com.opera.browser</td>\n",
              "      <td>2021-02-27</td>\n",
              "      <td>Fast, safe web browser: free VPN, Ad blocker, ...</td>\n",
              "      <td>Fast, safe and private, introducing the latest...</td>\n",
              "    </tr>\n",
              "    <tr>\n",
              "      <th>3</th>\n",
              "      <td>3</td>\n",
              "      <td>browser</td>\n",
              "      <td>4.0</td>\n",
              "      <td>in</td>\n",
              "      <td>en</td>\n",
              "      <td>2020-12-16</td>\n",
              "      <td>com.opera.browser</td>\n",
              "      <td>2020-12-18</td>\n",
              "      <td>Fast, safe web browser: free VPN, Ad blocker, ...</td>\n",
              "      <td>Opera is a fast, safe web browser for your And...</td>\n",
              "    </tr>\n",
              "    <tr>\n",
              "      <th>4</th>\n",
              "      <td>4</td>\n",
              "      <td>browser</td>\n",
              "      <td>1.0</td>\n",
              "      <td>in</td>\n",
              "      <td>en</td>\n",
              "      <td>2020-12-16</td>\n",
              "      <td>com.cloudmosa.puffinTV</td>\n",
              "      <td>2021-02-07</td>\n",
              "      <td>Puffin TV Browser - One App to Watch All Video...</td>\n",
              "      <td>Puffin TV Browser is a special edition of Puff...</td>\n",
              "    </tr>\n",
              "    <tr>\n",
              "      <th>...</th>\n",
              "      <td>...</td>\n",
              "      <td>...</td>\n",
              "      <td>...</td>\n",
              "      <td>...</td>\n",
              "      <td>...</td>\n",
              "      <td>...</td>\n",
              "      <td>...</td>\n",
              "      <td>...</td>\n",
              "      <td>...</td>\n",
              "      <td>...</td>\n",
              "    </tr>\n",
              "    <tr>\n",
              "      <th>3061</th>\n",
              "      <td>131575</td>\n",
              "      <td>android browser</td>\n",
              "      <td>7.0</td>\n",
              "      <td>in</td>\n",
              "      <td>en</td>\n",
              "      <td>2021-03-06</td>\n",
              "      <td>com.opera.browser</td>\n",
              "      <td>2020-12-18</td>\n",
              "      <td>Fast, safe web browser: free VPN, Ad blocker, ...</td>\n",
              "      <td>Opera is a fast, safe web browser for your And...</td>\n",
              "    </tr>\n",
              "    <tr>\n",
              "      <th>3062</th>\n",
              "      <td>131576</td>\n",
              "      <td>android browser</td>\n",
              "      <td>5.0</td>\n",
              "      <td>in</td>\n",
              "      <td>en</td>\n",
              "      <td>2021-03-06</td>\n",
              "      <td>com.cloudmosa.puffinTV</td>\n",
              "      <td>2021-02-07</td>\n",
              "      <td>Puffin TV Browser - One App to Watch All Video...</td>\n",
              "      <td>Puffin TV Browser is a special edition of Puff...</td>\n",
              "    </tr>\n",
              "    <tr>\n",
              "      <th>3063</th>\n",
              "      <td>131576</td>\n",
              "      <td>android browser</td>\n",
              "      <td>5.0</td>\n",
              "      <td>in</td>\n",
              "      <td>en</td>\n",
              "      <td>2021-03-06</td>\n",
              "      <td>com.cloudmosa.puffinTV</td>\n",
              "      <td>2021-02-06</td>\n",
              "      <td>Puffin TV Browser - One App to Watch All Video...</td>\n",
              "      <td>Puffin TV Browser is a special edition of Puff...</td>\n",
              "    </tr>\n",
              "    <tr>\n",
              "      <th>3064</th>\n",
              "      <td>131576</td>\n",
              "      <td>android browser</td>\n",
              "      <td>5.0</td>\n",
              "      <td>in</td>\n",
              "      <td>en</td>\n",
              "      <td>2021-03-06</td>\n",
              "      <td>com.cloudmosa.puffinTV</td>\n",
              "      <td>2021-01-21</td>\n",
              "      <td>Puffin TV Browser - One App to Watch All Video...</td>\n",
              "      <td>Puffin TV Browser is a special edition of Puff...</td>\n",
              "    </tr>\n",
              "    <tr>\n",
              "      <th>3065</th>\n",
              "      <td>131576</td>\n",
              "      <td>android browser</td>\n",
              "      <td>5.0</td>\n",
              "      <td>in</td>\n",
              "      <td>en</td>\n",
              "      <td>2021-03-06</td>\n",
              "      <td>com.cloudmosa.puffinTV</td>\n",
              "      <td>2020-12-18</td>\n",
              "      <td>Puffin TV Browser - One App to Watch All Video...</td>\n",
              "      <td>Puffin TV Browser is a special edition of Puff...</td>\n",
              "    </tr>\n",
              "  </tbody>\n",
              "</table>\n",
              "<p>3050 rows × 10 columns</p>\n",
              "</div>\n",
              "      <button class=\"colab-df-convert\" onclick=\"convertToInteractive('df-59321de8-71b4-4c3d-bc1b-b2dfbcf78f03')\"\n",
              "              title=\"Convert this dataframe to an interactive table.\"\n",
              "              style=\"display:none;\">\n",
              "        \n",
              "  <svg xmlns=\"http://www.w3.org/2000/svg\" height=\"24px\"viewBox=\"0 0 24 24\"\n",
              "       width=\"24px\">\n",
              "    <path d=\"M0 0h24v24H0V0z\" fill=\"none\"/>\n",
              "    <path d=\"M18.56 5.44l.94 2.06.94-2.06 2.06-.94-2.06-.94-.94-2.06-.94 2.06-2.06.94zm-11 1L8.5 8.5l.94-2.06 2.06-.94-2.06-.94L8.5 2.5l-.94 2.06-2.06.94zm10 10l.94 2.06.94-2.06 2.06-.94-2.06-.94-.94-2.06-.94 2.06-2.06.94z\"/><path d=\"M17.41 7.96l-1.37-1.37c-.4-.4-.92-.59-1.43-.59-.52 0-1.04.2-1.43.59L10.3 9.45l-7.72 7.72c-.78.78-.78 2.05 0 2.83L4 21.41c.39.39.9.59 1.41.59.51 0 1.02-.2 1.41-.59l7.78-7.78 2.81-2.81c.8-.78.8-2.07 0-2.86zM5.41 20L4 18.59l7.72-7.72 1.47 1.35L5.41 20z\"/>\n",
              "  </svg>\n",
              "      </button>\n",
              "      \n",
              "  <style>\n",
              "    .colab-df-container {\n",
              "      display:flex;\n",
              "      flex-wrap:wrap;\n",
              "      gap: 12px;\n",
              "    }\n",
              "\n",
              "    .colab-df-convert {\n",
              "      background-color: #E8F0FE;\n",
              "      border: none;\n",
              "      border-radius: 50%;\n",
              "      cursor: pointer;\n",
              "      display: none;\n",
              "      fill: #1967D2;\n",
              "      height: 32px;\n",
              "      padding: 0 0 0 0;\n",
              "      width: 32px;\n",
              "    }\n",
              "\n",
              "    .colab-df-convert:hover {\n",
              "      background-color: #E2EBFA;\n",
              "      box-shadow: 0px 1px 2px rgba(60, 64, 67, 0.3), 0px 1px 3px 1px rgba(60, 64, 67, 0.15);\n",
              "      fill: #174EA6;\n",
              "    }\n",
              "\n",
              "    [theme=dark] .colab-df-convert {\n",
              "      background-color: #3B4455;\n",
              "      fill: #D2E3FC;\n",
              "    }\n",
              "\n",
              "    [theme=dark] .colab-df-convert:hover {\n",
              "      background-color: #434B5C;\n",
              "      box-shadow: 0px 1px 3px 1px rgba(0, 0, 0, 0.15);\n",
              "      filter: drop-shadow(0px 1px 2px rgba(0, 0, 0, 0.3));\n",
              "      fill: #FFFFFF;\n",
              "    }\n",
              "  </style>\n",
              "\n",
              "      <script>\n",
              "        const buttonEl =\n",
              "          document.querySelector('#df-59321de8-71b4-4c3d-bc1b-b2dfbcf78f03 button.colab-df-convert');\n",
              "        buttonEl.style.display =\n",
              "          google.colab.kernel.accessAllowed ? 'block' : 'none';\n",
              "\n",
              "        async function convertToInteractive(key) {\n",
              "          const element = document.querySelector('#df-59321de8-71b4-4c3d-bc1b-b2dfbcf78f03');\n",
              "          const dataTable =\n",
              "            await google.colab.kernel.invokeFunction('convertToInteractive',\n",
              "                                                     [key], {});\n",
              "          if (!dataTable) return;\n",
              "\n",
              "          const docLinkHtml = 'Like what you see? Visit the ' +\n",
              "            '<a target=\"_blank\" href=https://colab.research.google.com/notebooks/data_table.ipynb>data table notebook</a>'\n",
              "            + ' to learn more about interactive tables.';\n",
              "          element.innerHTML = '';\n",
              "          dataTable['output_type'] = 'display_data';\n",
              "          await google.colab.output.renderOutput(dataTable, element);\n",
              "          const docLink = document.createElement('div');\n",
              "          docLink.innerHTML = docLinkHtml;\n",
              "          element.appendChild(docLink);\n",
              "        }\n",
              "      </script>\n",
              "    </div>\n",
              "  </div>\n",
              "  "
            ]
          },
          "metadata": {},
          "execution_count": 9
        }
      ]
    },
    {
      "cell_type": "code",
      "source": [
        "data.info()"
      ],
      "metadata": {
        "colab": {
          "base_uri": "https://localhost:8080/"
        },
        "id": "CCiAgD1ZJqj2",
        "outputId": "e01b5fed-4de4-432f-d7a4-3037989af9ca"
      },
      "execution_count": 10,
      "outputs": [
        {
          "output_type": "stream",
          "name": "stdout",
          "text": [
            "<class 'pandas.core.frame.DataFrame'>\n",
            "Int64Index: 3050 entries, 0 to 3065\n",
            "Data columns (total 10 columns):\n",
            " #   Column                           Non-Null Count  Dtype  \n",
            "---  ------                           --------------  -----  \n",
            " 0   ID                               3050 non-null   int64  \n",
            " 1   Keyword                          3050 non-null   object \n",
            " 2   Rank                             3050 non-null   float64\n",
            " 3   Country                          3050 non-null   object \n",
            " 4   Language                         3050 non-null   object \n",
            " 5   Date                             3050 non-null   object \n",
            " 6   App ID                           3050 non-null   object \n",
            " 7   Date of Last Description Change  3050 non-null   object \n",
            " 8   Short Description                3050 non-null   object \n",
            " 9   Long Description                 3050 non-null   object \n",
            "dtypes: float64(1), int64(1), object(8)\n",
            "memory usage: 262.1+ KB\n"
          ]
        }
      ]
    },
    {
      "cell_type": "code",
      "source": [
        "data.shape"
      ],
      "metadata": {
        "colab": {
          "base_uri": "https://localhost:8080/"
        },
        "id": "9EjRi2gGJqd9",
        "outputId": "83431387-1b66-41f6-e0be-9ca0a388415c"
      },
      "execution_count": 11,
      "outputs": [
        {
          "output_type": "execute_result",
          "data": {
            "text/plain": [
              "(3050, 10)"
            ]
          },
          "metadata": {},
          "execution_count": 11
        }
      ]
    },
    {
      "cell_type": "code",
      "source": [
        "data.info()"
      ],
      "metadata": {
        "colab": {
          "base_uri": "https://localhost:8080/"
        },
        "id": "U7-xQnWLJqbb",
        "outputId": "2d323cc8-e7d5-47d2-9544-88243ea3b305"
      },
      "execution_count": 12,
      "outputs": [
        {
          "output_type": "stream",
          "name": "stdout",
          "text": [
            "<class 'pandas.core.frame.DataFrame'>\n",
            "Int64Index: 3050 entries, 0 to 3065\n",
            "Data columns (total 10 columns):\n",
            " #   Column                           Non-Null Count  Dtype  \n",
            "---  ------                           --------------  -----  \n",
            " 0   ID                               3050 non-null   int64  \n",
            " 1   Keyword                          3050 non-null   object \n",
            " 2   Rank                             3050 non-null   float64\n",
            " 3   Country                          3050 non-null   object \n",
            " 4   Language                         3050 non-null   object \n",
            " 5   Date                             3050 non-null   object \n",
            " 6   App ID                           3050 non-null   object \n",
            " 7   Date of Last Description Change  3050 non-null   object \n",
            " 8   Short Description                3050 non-null   object \n",
            " 9   Long Description                 3050 non-null   object \n",
            "dtypes: float64(1), int64(1), object(8)\n",
            "memory usage: 262.1+ KB\n"
          ]
        }
      ]
    },
    {
      "cell_type": "code",
      "source": [
        "data.isnull().sum()"
      ],
      "metadata": {
        "colab": {
          "base_uri": "https://localhost:8080/"
        },
        "id": "Q_UtucigJqWX",
        "outputId": "6d3e6752-90f1-44f1-b681-67d76904bf67"
      },
      "execution_count": 13,
      "outputs": [
        {
          "output_type": "execute_result",
          "data": {
            "text/plain": [
              "ID                                 0\n",
              "Keyword                            0\n",
              "Rank                               0\n",
              "Country                            0\n",
              "Language                           0\n",
              "Date                               0\n",
              "App ID                             0\n",
              "Date of Last Description Change    0\n",
              "Short Description                  0\n",
              "Long Description                   0\n",
              "dtype: int64"
            ]
          },
          "metadata": {},
          "execution_count": 13
        }
      ]
    },
    {
      "cell_type": "code",
      "source": [
        "data= data.dropna()"
      ],
      "metadata": {
        "id": "a8yFW8OHJqQq"
      },
      "execution_count": 14,
      "outputs": []
    },
    {
      "cell_type": "code",
      "source": [
        "data.shape"
      ],
      "metadata": {
        "colab": {
          "base_uri": "https://localhost:8080/"
        },
        "id": "Io-1H5IcPD7N",
        "outputId": "36900d30-3763-400d-dd32-18a6ebdf7d91"
      },
      "execution_count": 15,
      "outputs": [
        {
          "output_type": "execute_result",
          "data": {
            "text/plain": [
              "(3050, 10)"
            ]
          },
          "metadata": {},
          "execution_count": 15
        }
      ]
    },
    {
      "cell_type": "code",
      "source": [
        "#browser_rankings =Long Descr\n",
        "#level_8=Short Description\n",
        "\n",
        "data['Short Desc Len']= data['Short Description'].apply(lambda x:len(x))\n",
        "data['Long Descr']= data['Long Description'].apply(lambda x:len(x))"
      ],
      "metadata": {
        "id": "IAA2UNy3JqOr"
      },
      "execution_count": 17,
      "outputs": []
    },
    {
      "cell_type": "code",
      "source": [
        "data.info()"
      ],
      "metadata": {
        "colab": {
          "base_uri": "https://localhost:8080/"
        },
        "id": "JkVCxg0-RmOk",
        "outputId": "3f4345bd-4e84-4b28-d7e7-4d671e99191f"
      },
      "execution_count": 18,
      "outputs": [
        {
          "output_type": "stream",
          "name": "stdout",
          "text": [
            "<class 'pandas.core.frame.DataFrame'>\n",
            "Int64Index: 3050 entries, 0 to 3065\n",
            "Data columns (total 12 columns):\n",
            " #   Column                           Non-Null Count  Dtype  \n",
            "---  ------                           --------------  -----  \n",
            " 0   ID                               3050 non-null   int64  \n",
            " 1   Keyword                          3050 non-null   object \n",
            " 2   Rank                             3050 non-null   float64\n",
            " 3   Country                          3050 non-null   object \n",
            " 4   Language                         3050 non-null   object \n",
            " 5   Date                             3050 non-null   object \n",
            " 6   App ID                           3050 non-null   object \n",
            " 7   Date of Last Description Change  3050 non-null   object \n",
            " 8   Short Description                3050 non-null   object \n",
            " 9   Long Description                 3050 non-null   object \n",
            " 10  Short Desc Len                   3050 non-null   int64  \n",
            " 11  Long Descr                       3050 non-null   int64  \n",
            "dtypes: float64(1), int64(3), object(8)\n",
            "memory usage: 309.8+ KB\n"
          ]
        }
      ]
    },
    {
      "cell_type": "code",
      "source": [
        "data['Short Desc Len'] = data['Short Desc Len'].astype(str)\n",
        "data['Long Descr'] = data['Long Descr'].astype(str)"
      ],
      "metadata": {
        "id": "rMdQciyIDF2L"
      },
      "execution_count": 21,
      "outputs": []
    },
    {
      "cell_type": "code",
      "source": [
        "key_list =[]\n",
        "for text in data['Long Descr']:\n",
        "  text = text.translate( str.maketrans('','',string.punctuation))\n",
        "  text = re.sub(\"\\s+\",\" \",text)\n",
        "  text = re.sub('[^a-zA-Z0-9\\n]',' ',text)\n",
        "  text =text.split(\" \")\n",
        "  if 'key'in text[0:50]:\n",
        "    key_list.append(1)\n",
        "  else:\n",
        "    key_list.append(0)\n",
        "  \n",
        "  \n",
        "\n",
        "\n",
        "\n"
      ],
      "metadata": {
        "id": "qi28-uWkME9X"
      },
      "execution_count": 22,
      "outputs": []
    },
    {
      "cell_type": "code",
      "source": [
        "data ['key_present']= key_list"
      ],
      "metadata": {
        "id": "H4dsbVQfME2o"
      },
      "execution_count": 23,
      "outputs": []
    },
    {
      "cell_type": "code",
      "source": [
        ""
      ],
      "metadata": {
        "id": "qT07yXajDiAc"
      },
      "execution_count": null,
      "outputs": []
    },
    {
      "cell_type": "code",
      "source": [
        "data.head()"
      ],
      "metadata": {
        "colab": {
          "base_uri": "https://localhost:8080/",
          "height": 354
        },
        "id": "kIR-rNYNMEue",
        "outputId": "09c21fae-557a-4bfe-dfe8-dfe94d73ff80"
      },
      "execution_count": 24,
      "outputs": [
        {
          "output_type": "execute_result",
          "data": {
            "text/plain": [
              "   ID  Keyword  Rank Country Language        Date                  App ID  \\\n",
              "0   1  browser   2.0      in       en  2020-12-16    net.fast.web.browser   \n",
              "1   2  browser   3.0      in       en  2020-12-16      com.android.chrome   \n",
              "2   3  browser   4.0      in       en  2020-12-16       com.opera.browser   \n",
              "3   3  browser   4.0      in       en  2020-12-16       com.opera.browser   \n",
              "4   4  browser   1.0      in       en  2020-12-16  com.cloudmosa.puffinTV   \n",
              "\n",
              "  Date of Last Description Change  \\\n",
              "0                      2020-12-18   \n",
              "1                      2020-12-18   \n",
              "2                      2021-02-27   \n",
              "3                      2020-12-18   \n",
              "4                      2021-02-07   \n",
              "\n",
              "                                   Short Description  \\\n",
              "0  The small, fastest, secure Web Browser, best m...   \n",
              "1  Fast, simple, and secure. Google Chrome browse...   \n",
              "2  Fast, safe web browser: free VPN, Ad blocker, ...   \n",
              "3  Fast, safe web browser: free VPN, Ad blocker, ...   \n",
              "4  Puffin TV Browser - One App to Watch All Video...   \n",
              "\n",
              "                                    Long Description Short Desc Len  \\\n",
              "0  One of the smallest, fastest, secure Web Brows...             80   \n",
              "1  Google Chrome is a fast, easy to use, and secu...             79   \n",
              "2  Fast, safe and private, introducing the latest...             84   \n",
              "3  Opera is a fast, safe web browser for your And...             84   \n",
              "4  Puffin TV Browser is a special edition of Puff...             58   \n",
              "\n",
              "  Long Descr  key_present  \n",
              "0       1283            0  \n",
              "1       2771            0  \n",
              "2       3087            0  \n",
              "3       3939            0  \n",
              "4       1437            0  "
            ],
            "text/html": [
              "\n",
              "  <div id=\"df-f7e1dd5a-9130-4b8f-8047-61e63f4fbb55\">\n",
              "    <div class=\"colab-df-container\">\n",
              "      <div>\n",
              "<style scoped>\n",
              "    .dataframe tbody tr th:only-of-type {\n",
              "        vertical-align: middle;\n",
              "    }\n",
              "\n",
              "    .dataframe tbody tr th {\n",
              "        vertical-align: top;\n",
              "    }\n",
              "\n",
              "    .dataframe thead th {\n",
              "        text-align: right;\n",
              "    }\n",
              "</style>\n",
              "<table border=\"1\" class=\"dataframe\">\n",
              "  <thead>\n",
              "    <tr style=\"text-align: right;\">\n",
              "      <th></th>\n",
              "      <th>ID</th>\n",
              "      <th>Keyword</th>\n",
              "      <th>Rank</th>\n",
              "      <th>Country</th>\n",
              "      <th>Language</th>\n",
              "      <th>Date</th>\n",
              "      <th>App ID</th>\n",
              "      <th>Date of Last Description Change</th>\n",
              "      <th>Short Description</th>\n",
              "      <th>Long Description</th>\n",
              "      <th>Short Desc Len</th>\n",
              "      <th>Long Descr</th>\n",
              "      <th>key_present</th>\n",
              "    </tr>\n",
              "  </thead>\n",
              "  <tbody>\n",
              "    <tr>\n",
              "      <th>0</th>\n",
              "      <td>1</td>\n",
              "      <td>browser</td>\n",
              "      <td>2.0</td>\n",
              "      <td>in</td>\n",
              "      <td>en</td>\n",
              "      <td>2020-12-16</td>\n",
              "      <td>net.fast.web.browser</td>\n",
              "      <td>2020-12-18</td>\n",
              "      <td>The small, fastest, secure Web Browser, best m...</td>\n",
              "      <td>One of the smallest, fastest, secure Web Brows...</td>\n",
              "      <td>80</td>\n",
              "      <td>1283</td>\n",
              "      <td>0</td>\n",
              "    </tr>\n",
              "    <tr>\n",
              "      <th>1</th>\n",
              "      <td>2</td>\n",
              "      <td>browser</td>\n",
              "      <td>3.0</td>\n",
              "      <td>in</td>\n",
              "      <td>en</td>\n",
              "      <td>2020-12-16</td>\n",
              "      <td>com.android.chrome</td>\n",
              "      <td>2020-12-18</td>\n",
              "      <td>Fast, simple, and secure. Google Chrome browse...</td>\n",
              "      <td>Google Chrome is a fast, easy to use, and secu...</td>\n",
              "      <td>79</td>\n",
              "      <td>2771</td>\n",
              "      <td>0</td>\n",
              "    </tr>\n",
              "    <tr>\n",
              "      <th>2</th>\n",
              "      <td>3</td>\n",
              "      <td>browser</td>\n",
              "      <td>4.0</td>\n",
              "      <td>in</td>\n",
              "      <td>en</td>\n",
              "      <td>2020-12-16</td>\n",
              "      <td>com.opera.browser</td>\n",
              "      <td>2021-02-27</td>\n",
              "      <td>Fast, safe web browser: free VPN, Ad blocker, ...</td>\n",
              "      <td>Fast, safe and private, introducing the latest...</td>\n",
              "      <td>84</td>\n",
              "      <td>3087</td>\n",
              "      <td>0</td>\n",
              "    </tr>\n",
              "    <tr>\n",
              "      <th>3</th>\n",
              "      <td>3</td>\n",
              "      <td>browser</td>\n",
              "      <td>4.0</td>\n",
              "      <td>in</td>\n",
              "      <td>en</td>\n",
              "      <td>2020-12-16</td>\n",
              "      <td>com.opera.browser</td>\n",
              "      <td>2020-12-18</td>\n",
              "      <td>Fast, safe web browser: free VPN, Ad blocker, ...</td>\n",
              "      <td>Opera is a fast, safe web browser for your And...</td>\n",
              "      <td>84</td>\n",
              "      <td>3939</td>\n",
              "      <td>0</td>\n",
              "    </tr>\n",
              "    <tr>\n",
              "      <th>4</th>\n",
              "      <td>4</td>\n",
              "      <td>browser</td>\n",
              "      <td>1.0</td>\n",
              "      <td>in</td>\n",
              "      <td>en</td>\n",
              "      <td>2020-12-16</td>\n",
              "      <td>com.cloudmosa.puffinTV</td>\n",
              "      <td>2021-02-07</td>\n",
              "      <td>Puffin TV Browser - One App to Watch All Video...</td>\n",
              "      <td>Puffin TV Browser is a special edition of Puff...</td>\n",
              "      <td>58</td>\n",
              "      <td>1437</td>\n",
              "      <td>0</td>\n",
              "    </tr>\n",
              "  </tbody>\n",
              "</table>\n",
              "</div>\n",
              "      <button class=\"colab-df-convert\" onclick=\"convertToInteractive('df-f7e1dd5a-9130-4b8f-8047-61e63f4fbb55')\"\n",
              "              title=\"Convert this dataframe to an interactive table.\"\n",
              "              style=\"display:none;\">\n",
              "        \n",
              "  <svg xmlns=\"http://www.w3.org/2000/svg\" height=\"24px\"viewBox=\"0 0 24 24\"\n",
              "       width=\"24px\">\n",
              "    <path d=\"M0 0h24v24H0V0z\" fill=\"none\"/>\n",
              "    <path d=\"M18.56 5.44l.94 2.06.94-2.06 2.06-.94-2.06-.94-.94-2.06-.94 2.06-2.06.94zm-11 1L8.5 8.5l.94-2.06 2.06-.94-2.06-.94L8.5 2.5l-.94 2.06-2.06.94zm10 10l.94 2.06.94-2.06 2.06-.94-2.06-.94-.94-2.06-.94 2.06-2.06.94z\"/><path d=\"M17.41 7.96l-1.37-1.37c-.4-.4-.92-.59-1.43-.59-.52 0-1.04.2-1.43.59L10.3 9.45l-7.72 7.72c-.78.78-.78 2.05 0 2.83L4 21.41c.39.39.9.59 1.41.59.51 0 1.02-.2 1.41-.59l7.78-7.78 2.81-2.81c.8-.78.8-2.07 0-2.86zM5.41 20L4 18.59l7.72-7.72 1.47 1.35L5.41 20z\"/>\n",
              "  </svg>\n",
              "      </button>\n",
              "      \n",
              "  <style>\n",
              "    .colab-df-container {\n",
              "      display:flex;\n",
              "      flex-wrap:wrap;\n",
              "      gap: 12px;\n",
              "    }\n",
              "\n",
              "    .colab-df-convert {\n",
              "      background-color: #E8F0FE;\n",
              "      border: none;\n",
              "      border-radius: 50%;\n",
              "      cursor: pointer;\n",
              "      display: none;\n",
              "      fill: #1967D2;\n",
              "      height: 32px;\n",
              "      padding: 0 0 0 0;\n",
              "      width: 32px;\n",
              "    }\n",
              "\n",
              "    .colab-df-convert:hover {\n",
              "      background-color: #E2EBFA;\n",
              "      box-shadow: 0px 1px 2px rgba(60, 64, 67, 0.3), 0px 1px 3px 1px rgba(60, 64, 67, 0.15);\n",
              "      fill: #174EA6;\n",
              "    }\n",
              "\n",
              "    [theme=dark] .colab-df-convert {\n",
              "      background-color: #3B4455;\n",
              "      fill: #D2E3FC;\n",
              "    }\n",
              "\n",
              "    [theme=dark] .colab-df-convert:hover {\n",
              "      background-color: #434B5C;\n",
              "      box-shadow: 0px 1px 3px 1px rgba(0, 0, 0, 0.15);\n",
              "      filter: drop-shadow(0px 1px 2px rgba(0, 0, 0, 0.3));\n",
              "      fill: #FFFFFF;\n",
              "    }\n",
              "  </style>\n",
              "\n",
              "      <script>\n",
              "        const buttonEl =\n",
              "          document.querySelector('#df-f7e1dd5a-9130-4b8f-8047-61e63f4fbb55 button.colab-df-convert');\n",
              "        buttonEl.style.display =\n",
              "          google.colab.kernel.accessAllowed ? 'block' : 'none';\n",
              "\n",
              "        async function convertToInteractive(key) {\n",
              "          const element = document.querySelector('#df-f7e1dd5a-9130-4b8f-8047-61e63f4fbb55');\n",
              "          const dataTable =\n",
              "            await google.colab.kernel.invokeFunction('convertToInteractive',\n",
              "                                                     [key], {});\n",
              "          if (!dataTable) return;\n",
              "\n",
              "          const docLinkHtml = 'Like what you see? Visit the ' +\n",
              "            '<a target=\"_blank\" href=https://colab.research.google.com/notebooks/data_table.ipynb>data table notebook</a>'\n",
              "            + ' to learn more about interactive tables.';\n",
              "          element.innerHTML = '';\n",
              "          dataTable['output_type'] = 'display_data';\n",
              "          await google.colab.output.renderOutput(dataTable, element);\n",
              "          const docLink = document.createElement('div');\n",
              "          docLink.innerHTML = docLinkHtml;\n",
              "          element.appendChild(docLink);\n",
              "        }\n",
              "      </script>\n",
              "    </div>\n",
              "  </div>\n",
              "  "
            ]
          },
          "metadata": {},
          "execution_count": 24
        }
      ]
    },
    {
      "cell_type": "code",
      "source": [
        "data['App ID'].unique()"
      ],
      "metadata": {
        "colab": {
          "base_uri": "https://localhost:8080/"
        },
        "id": "wf8S23fAZ62x",
        "outputId": "d5d52914-aeaf-481a-cce5-43bddfea093e"
      },
      "execution_count": 25,
      "outputs": [
        {
          "output_type": "execute_result",
          "data": {
            "text/plain": [
              "array(['net.fast.web.browser', 'com.android.chrome', 'com.opera.browser',\n",
              "       'com.cloudmosa.puffinTV', 'com.brave.browser',\n",
              "       'com.vivaldi.browser', 'com.duckduckgo.mobile.android',\n",
              "       'com.transsion.phoenix'], dtype=object)"
            ]
          },
          "metadata": {},
          "execution_count": 25
        }
      ]
    },
    {
      "cell_type": "code",
      "source": [
        "app_map = {label:idx for idx,label in enumerate (np.unique(data['App ID']))}\n",
        "data['App ID'] = data['App ID'].map(app_map)"
      ],
      "metadata": {
        "id": "ogLyQ2JWZ6vb"
      },
      "execution_count": 28,
      "outputs": []
    },
    {
      "cell_type": "code",
      "source": [
        "data['Keyword'].unique()"
      ],
      "metadata": {
        "colab": {
          "base_uri": "https://localhost:8080/"
        },
        "id": "YX0PgpNrDszm",
        "outputId": "0f93b4df-cfb2-4d42-ed16-9bfa8bbf954f"
      },
      "execution_count": 30,
      "outputs": [
        {
          "output_type": "execute_result",
          "data": {
            "text/plain": [
              "array(['browser', 'android browser', 'privacy browser',\n",
              "       'privacy browsers for android', 'best privacy browsers',\n",
              "       'fast browser', 'ad free browser'], dtype=object)"
            ]
          },
          "metadata": {},
          "execution_count": 30
        }
      ]
    },
    {
      "cell_type": "code",
      "source": [
        "som_map = {label:idx for idx,label in enumerate (np.unique(data['Keyword']))}\n",
        "data['keyword_pe'] = data['Keyword'].map(som_map)"
      ],
      "metadata": {
        "id": "HiOPnNgqIrRd"
      },
      "execution_count": 36,
      "outputs": []
    },
    {
      "cell_type": "code",
      "source": [
        "keyword_cros = pd.crosstab(index=data['Keyword'],columns=data['Rank'])\n",
        "print(keyword_cros)"
      ],
      "metadata": {
        "colab": {
          "base_uri": "https://localhost:8080/"
        },
        "id": "Qtfzb4V4IrPO",
        "outputId": "e62260da-18df-405f-9dc9-8e503537c0ea"
      },
      "execution_count": 37,
      "outputs": [
        {
          "output_type": "stream",
          "name": "stdout",
          "text": [
            "Rank                          1.0    2.0    3.0    4.0    5.0    6.0    7.0    \\\n",
            "Keyword                                                                         \n",
            "ad free browser                   0     51     18      4     11    104     24   \n",
            "android browser                   0    122     74     64     37     59     54   \n",
            "best privacy browsers           142     40     17     14      2      3      1   \n",
            "browser                         129    155     83     67     56     21     24   \n",
            "fast browser                      0      1      5     14     13     26     19   \n",
            "privacy browser                 144     58      9      5      4      0      0   \n",
            "privacy browsers for android    147     63      8      2      2      0      0   \n",
            "\n",
            "Rank                          8.0    9.0    10.0   ...  111.0  112.0  113.0  \\\n",
            "Keyword                                            ...                        \n",
            "ad free browser                   8      2      0  ...      1      0      1   \n",
            "android browser                  32     28     21  ...      0      0      0   \n",
            "best privacy browsers             5      1      8  ...      0      1      0   \n",
            "browser                          15      9     17  ...      0      0      0   \n",
            "fast browser                     20     16     14  ...      0      0      0   \n",
            "privacy browser                   2      0      0  ...      0      0      0   \n",
            "privacy browsers for android      0      0      0  ...      0      0      0   \n",
            "\n",
            "Rank                          114.0  115.0  116.0  117.0  118.0  119.0  134.0  \n",
            "Keyword                                                                        \n",
            "ad free browser                   0      0      0      1      0      1      0  \n",
            "android browser                   0      0      0      0      0      0      0  \n",
            "best privacy browsers             0      0      1      1      2      0      0  \n",
            "browser                           0      0      0      0      0      0      0  \n",
            "fast browser                      1      0      0      0      0      0      0  \n",
            "privacy browser                   0      2      1      0      0      0      0  \n",
            "privacy browsers for android      0      0      0      0      0      0      1  \n",
            "\n",
            "[7 rows x 119 columns]\n"
          ]
        }
      ]
    },
    {
      "cell_type": "code",
      "source": [
        "data.head()"
      ],
      "metadata": {
        "colab": {
          "base_uri": "https://localhost:8080/",
          "height": 354
        },
        "id": "yJHANviuDswu",
        "outputId": "260a9940-b0bd-441b-ab54-e5302a09ec69"
      },
      "execution_count": 38,
      "outputs": [
        {
          "output_type": "execute_result",
          "data": {
            "text/plain": [
              "   ID  Keyword  Rank Country Language        Date  App ID  \\\n",
              "0   1  browser   2.0      in       en  2020-12-16       7   \n",
              "1   2  browser   3.0      in       en  2020-12-16       0   \n",
              "2   3  browser   4.0      in       en  2020-12-16       4   \n",
              "3   3  browser   4.0      in       en  2020-12-16       4   \n",
              "4   4  browser   1.0      in       en  2020-12-16       2   \n",
              "\n",
              "  Date of Last Description Change  \\\n",
              "0                      2020-12-18   \n",
              "1                      2020-12-18   \n",
              "2                      2021-02-27   \n",
              "3                      2020-12-18   \n",
              "4                      2021-02-07   \n",
              "\n",
              "                                   Short Description  \\\n",
              "0  The small, fastest, secure Web Browser, best m...   \n",
              "1  Fast, simple, and secure. Google Chrome browse...   \n",
              "2  Fast, safe web browser: free VPN, Ad blocker, ...   \n",
              "3  Fast, safe web browser: free VPN, Ad blocker, ...   \n",
              "4  Puffin TV Browser - One App to Watch All Video...   \n",
              "\n",
              "                                    Long Description  Short Desc Len  \\\n",
              "0  One of the smallest, fastest, secure Web Brows...              80   \n",
              "1  Google Chrome is a fast, easy to use, and secu...              79   \n",
              "2  Fast, safe and private, introducing the latest...              84   \n",
              "3  Opera is a fast, safe web browser for your And...              84   \n",
              "4  Puffin TV Browser is a special edition of Puff...              58   \n",
              "\n",
              "   Long Descr  key_present  keyword_pe  \n",
              "0        1283            0           3  \n",
              "1        2771            0           3  \n",
              "2        3087            0           3  \n",
              "3        3939            0           3  \n",
              "4        1437            0           3  "
            ],
            "text/html": [
              "\n",
              "  <div id=\"df-b9c76b9a-d361-4a54-a955-fc4d6b5d71e8\">\n",
              "    <div class=\"colab-df-container\">\n",
              "      <div>\n",
              "<style scoped>\n",
              "    .dataframe tbody tr th:only-of-type {\n",
              "        vertical-align: middle;\n",
              "    }\n",
              "\n",
              "    .dataframe tbody tr th {\n",
              "        vertical-align: top;\n",
              "    }\n",
              "\n",
              "    .dataframe thead th {\n",
              "        text-align: right;\n",
              "    }\n",
              "</style>\n",
              "<table border=\"1\" class=\"dataframe\">\n",
              "  <thead>\n",
              "    <tr style=\"text-align: right;\">\n",
              "      <th></th>\n",
              "      <th>ID</th>\n",
              "      <th>Keyword</th>\n",
              "      <th>Rank</th>\n",
              "      <th>Country</th>\n",
              "      <th>Language</th>\n",
              "      <th>Date</th>\n",
              "      <th>App ID</th>\n",
              "      <th>Date of Last Description Change</th>\n",
              "      <th>Short Description</th>\n",
              "      <th>Long Description</th>\n",
              "      <th>Short Desc Len</th>\n",
              "      <th>Long Descr</th>\n",
              "      <th>key_present</th>\n",
              "      <th>keyword_pe</th>\n",
              "    </tr>\n",
              "  </thead>\n",
              "  <tbody>\n",
              "    <tr>\n",
              "      <th>0</th>\n",
              "      <td>1</td>\n",
              "      <td>browser</td>\n",
              "      <td>2.0</td>\n",
              "      <td>in</td>\n",
              "      <td>en</td>\n",
              "      <td>2020-12-16</td>\n",
              "      <td>7</td>\n",
              "      <td>2020-12-18</td>\n",
              "      <td>The small, fastest, secure Web Browser, best m...</td>\n",
              "      <td>One of the smallest, fastest, secure Web Brows...</td>\n",
              "      <td>80</td>\n",
              "      <td>1283</td>\n",
              "      <td>0</td>\n",
              "      <td>3</td>\n",
              "    </tr>\n",
              "    <tr>\n",
              "      <th>1</th>\n",
              "      <td>2</td>\n",
              "      <td>browser</td>\n",
              "      <td>3.0</td>\n",
              "      <td>in</td>\n",
              "      <td>en</td>\n",
              "      <td>2020-12-16</td>\n",
              "      <td>0</td>\n",
              "      <td>2020-12-18</td>\n",
              "      <td>Fast, simple, and secure. Google Chrome browse...</td>\n",
              "      <td>Google Chrome is a fast, easy to use, and secu...</td>\n",
              "      <td>79</td>\n",
              "      <td>2771</td>\n",
              "      <td>0</td>\n",
              "      <td>3</td>\n",
              "    </tr>\n",
              "    <tr>\n",
              "      <th>2</th>\n",
              "      <td>3</td>\n",
              "      <td>browser</td>\n",
              "      <td>4.0</td>\n",
              "      <td>in</td>\n",
              "      <td>en</td>\n",
              "      <td>2020-12-16</td>\n",
              "      <td>4</td>\n",
              "      <td>2021-02-27</td>\n",
              "      <td>Fast, safe web browser: free VPN, Ad blocker, ...</td>\n",
              "      <td>Fast, safe and private, introducing the latest...</td>\n",
              "      <td>84</td>\n",
              "      <td>3087</td>\n",
              "      <td>0</td>\n",
              "      <td>3</td>\n",
              "    </tr>\n",
              "    <tr>\n",
              "      <th>3</th>\n",
              "      <td>3</td>\n",
              "      <td>browser</td>\n",
              "      <td>4.0</td>\n",
              "      <td>in</td>\n",
              "      <td>en</td>\n",
              "      <td>2020-12-16</td>\n",
              "      <td>4</td>\n",
              "      <td>2020-12-18</td>\n",
              "      <td>Fast, safe web browser: free VPN, Ad blocker, ...</td>\n",
              "      <td>Opera is a fast, safe web browser for your And...</td>\n",
              "      <td>84</td>\n",
              "      <td>3939</td>\n",
              "      <td>0</td>\n",
              "      <td>3</td>\n",
              "    </tr>\n",
              "    <tr>\n",
              "      <th>4</th>\n",
              "      <td>4</td>\n",
              "      <td>browser</td>\n",
              "      <td>1.0</td>\n",
              "      <td>in</td>\n",
              "      <td>en</td>\n",
              "      <td>2020-12-16</td>\n",
              "      <td>2</td>\n",
              "      <td>2021-02-07</td>\n",
              "      <td>Puffin TV Browser - One App to Watch All Video...</td>\n",
              "      <td>Puffin TV Browser is a special edition of Puff...</td>\n",
              "      <td>58</td>\n",
              "      <td>1437</td>\n",
              "      <td>0</td>\n",
              "      <td>3</td>\n",
              "    </tr>\n",
              "  </tbody>\n",
              "</table>\n",
              "</div>\n",
              "      <button class=\"colab-df-convert\" onclick=\"convertToInteractive('df-b9c76b9a-d361-4a54-a955-fc4d6b5d71e8')\"\n",
              "              title=\"Convert this dataframe to an interactive table.\"\n",
              "              style=\"display:none;\">\n",
              "        \n",
              "  <svg xmlns=\"http://www.w3.org/2000/svg\" height=\"24px\"viewBox=\"0 0 24 24\"\n",
              "       width=\"24px\">\n",
              "    <path d=\"M0 0h24v24H0V0z\" fill=\"none\"/>\n",
              "    <path d=\"M18.56 5.44l.94 2.06.94-2.06 2.06-.94-2.06-.94-.94-2.06-.94 2.06-2.06.94zm-11 1L8.5 8.5l.94-2.06 2.06-.94-2.06-.94L8.5 2.5l-.94 2.06-2.06.94zm10 10l.94 2.06.94-2.06 2.06-.94-2.06-.94-.94-2.06-.94 2.06-2.06.94z\"/><path d=\"M17.41 7.96l-1.37-1.37c-.4-.4-.92-.59-1.43-.59-.52 0-1.04.2-1.43.59L10.3 9.45l-7.72 7.72c-.78.78-.78 2.05 0 2.83L4 21.41c.39.39.9.59 1.41.59.51 0 1.02-.2 1.41-.59l7.78-7.78 2.81-2.81c.8-.78.8-2.07 0-2.86zM5.41 20L4 18.59l7.72-7.72 1.47 1.35L5.41 20z\"/>\n",
              "  </svg>\n",
              "      </button>\n",
              "      \n",
              "  <style>\n",
              "    .colab-df-container {\n",
              "      display:flex;\n",
              "      flex-wrap:wrap;\n",
              "      gap: 12px;\n",
              "    }\n",
              "\n",
              "    .colab-df-convert {\n",
              "      background-color: #E8F0FE;\n",
              "      border: none;\n",
              "      border-radius: 50%;\n",
              "      cursor: pointer;\n",
              "      display: none;\n",
              "      fill: #1967D2;\n",
              "      height: 32px;\n",
              "      padding: 0 0 0 0;\n",
              "      width: 32px;\n",
              "    }\n",
              "\n",
              "    .colab-df-convert:hover {\n",
              "      background-color: #E2EBFA;\n",
              "      box-shadow: 0px 1px 2px rgba(60, 64, 67, 0.3), 0px 1px 3px 1px rgba(60, 64, 67, 0.15);\n",
              "      fill: #174EA6;\n",
              "    }\n",
              "\n",
              "    [theme=dark] .colab-df-convert {\n",
              "      background-color: #3B4455;\n",
              "      fill: #D2E3FC;\n",
              "    }\n",
              "\n",
              "    [theme=dark] .colab-df-convert:hover {\n",
              "      background-color: #434B5C;\n",
              "      box-shadow: 0px 1px 3px 1px rgba(0, 0, 0, 0.15);\n",
              "      filter: drop-shadow(0px 1px 2px rgba(0, 0, 0, 0.3));\n",
              "      fill: #FFFFFF;\n",
              "    }\n",
              "  </style>\n",
              "\n",
              "      <script>\n",
              "        const buttonEl =\n",
              "          document.querySelector('#df-b9c76b9a-d361-4a54-a955-fc4d6b5d71e8 button.colab-df-convert');\n",
              "        buttonEl.style.display =\n",
              "          google.colab.kernel.accessAllowed ? 'block' : 'none';\n",
              "\n",
              "        async function convertToInteractive(key) {\n",
              "          const element = document.querySelector('#df-b9c76b9a-d361-4a54-a955-fc4d6b5d71e8');\n",
              "          const dataTable =\n",
              "            await google.colab.kernel.invokeFunction('convertToInteractive',\n",
              "                                                     [key], {});\n",
              "          if (!dataTable) return;\n",
              "\n",
              "          const docLinkHtml = 'Like what you see? Visit the ' +\n",
              "            '<a target=\"_blank\" href=https://colab.research.google.com/notebooks/data_table.ipynb>data table notebook</a>'\n",
              "            + ' to learn more about interactive tables.';\n",
              "          element.innerHTML = '';\n",
              "          dataTable['output_type'] = 'display_data';\n",
              "          await google.colab.output.renderOutput(dataTable, element);\n",
              "          const docLink = document.createElement('div');\n",
              "          docLink.innerHTML = docLinkHtml;\n",
              "          element.appendChild(docLink);\n",
              "        }\n",
              "      </script>\n",
              "    </div>\n",
              "  </div>\n",
              "  "
            ]
          },
          "metadata": {},
          "execution_count": 38
        }
      ]
    },
    {
      "cell_type": "code",
      "source": [
        "data['Short Desc Len'] = data['Short Desc Len'].astype(int)\n",
        "data['Long Descr'] = data['Long Descr'].astype(int)"
      ],
      "metadata": {
        "id": "MHOXkcK9GaoC"
      },
      "execution_count": 33,
      "outputs": []
    },
    {
      "cell_type": "code",
      "source": [
        "## correlation between short description and rank\n",
        "print( 'correlation between short desc and  rank =',data['Short Desc Len'].corr(data['Rank']))\n",
        "\n",
        "#correlation between long description and rank\n",
        "print(\"correlation between long description and rank=\",data['Long Descr'].corr(data['Rank']))\n",
        "\n",
        "##correlation between browsers and rank\n",
        "print(\"correlation between browsers and rank=\",data['App ID'].corr(data['Rank']))\n",
        "\n",
        "##correlation between key word present and rank\n",
        "print(\"correlation between key word present and rank=\",data['key_present'].corr(data['Rank']))\n",
        "\n",
        "#correlation between keyword present in present word and rank\n",
        "print(\"correlation between keyword present in present word and rank=\",data['keyword_pe'].corr(data['Rank']))\n",
        "\n",
        "\n"
      ],
      "metadata": {
        "colab": {
          "base_uri": "https://localhost:8080/"
        },
        "id": "fjt2oXwPDstz",
        "outputId": "1d201df8-bfde-438c-aaaf-5c2f4f6e0532"
      },
      "execution_count": 40,
      "outputs": [
        {
          "output_type": "stream",
          "name": "stdout",
          "text": [
            "correlation between short desc and  rank = 0.2089389317593644\n",
            "correlation between long description and rank= 0.365600066568248\n",
            "correlation between browsers and rank= 0.5286928662558541\n",
            "correlation between key word present and rank= nan\n",
            "correlation between keyword present in present word and rank= 0.10376306847431485\n"
          ]
        }
      ]
    },
    {
      "cell_type": "markdown",
      "source": [
        "Is there any co-relation between short description, long description and ranking?\n",
        "\n",
        " Does the placement of keyword (for example - using a keyword in the first 10 words - have any co-relation with the ranking)?\n",
        "\n",
        "Does APP ID (Also known as package name) play any role in ranking? \n",
        "\n",
        "Any other pattern or good questions that you can think of and answer?\n"
      ],
      "metadata": {
        "id": "RnSpAJqhKP-I"
      }
    },
    {
      "cell_type": "code",
      "source": [
        ""
      ],
      "metadata": {
        "id": "jKdedrkYFZb7"
      },
      "execution_count": null,
      "outputs": []
    },
    {
      "cell_type": "code",
      "source": [
        ""
      ],
      "metadata": {
        "id": "_9_s-oyeFZWt"
      },
      "execution_count": null,
      "outputs": []
    },
    {
      "cell_type": "code",
      "source": [
        ""
      ],
      "metadata": {
        "id": "-nMmsJAUFZSQ"
      },
      "execution_count": null,
      "outputs": []
    },
    {
      "cell_type": "code",
      "source": [
        ""
      ],
      "metadata": {
        "id": "WbKYqLBeFZN-"
      },
      "execution_count": null,
      "outputs": []
    },
    {
      "cell_type": "code",
      "source": [
        ""
      ],
      "metadata": {
        "id": "T12cLN8gFZKL"
      },
      "execution_count": null,
      "outputs": []
    },
    {
      "cell_type": "code",
      "source": [
        ""
      ],
      "metadata": {
        "id": "22dlAX1bFZFf"
      },
      "execution_count": null,
      "outputs": []
    },
    {
      "cell_type": "code",
      "source": [
        ""
      ],
      "metadata": {
        "id": "1gPB9vm1FZAZ"
      },
      "execution_count": null,
      "outputs": []
    }
  ]
}