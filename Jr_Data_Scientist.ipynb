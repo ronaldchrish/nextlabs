{
  "nbformat": 4,
  "nbformat_minor": 0,
  "metadata": {
    "colab": {
      "name": "Jr Data Scientist.ipynb",
      "provenance": []
    },
    "kernelspec": {
      "name": "python3",
      "display_name": "Python 3"
    },
    "language_info": {
      "name": "python"
    }
  },
  "cells": [
    {
      "cell_type": "markdown",
      "source": [
        "1.Write a regex to extract all the numbers with orange color background from the below text in italics.\n",
        "\n",
        "\n",
        "{\"orders\":[{\"id\":1},{\"id\":2},{\"id\":3},{\"id\":4},{\"id\":5},{\"id\":6},{\"id\":7},{\"id\":8},{\"id\":9},{\"id\":10},{\"id\":11},{\"id\":648},{\"id\":649},{\"id\":650},{\"id\":651},{\"id\":652},{\"id\":653}],\"errors\":[{\"code\":3,\"message\":\"[PHP Warning #2] count(): Parameter must be an array or an object that implements Countable (153)\"}]}"
      ],
      "metadata": {
        "id": "B92cToBgZYRB"
      }
    },
    {
      "cell_type": "code",
      "source": [
        "import re\n",
        "import numpy as np"
      ],
      "metadata": {
        "id": "VvxFwqXcXFFD"
      },
      "execution_count": 1,
      "outputs": []
    },
    {
      "cell_type": "code",
      "source": [
        "numbers = '''{\"orders\":[{\"id\":1},{\"id\":2},{\"id\":3},{\"id\":4},{\"id\":5},{\"id\":6},{\"id\":7},{\"id\":8},{\"id\":9},{\"id\":10},{\"id\":11},{\"id\":648},{\"id\":649},{\"id\":650},{\"id\":651},{\"id\":652},{\"id\":653}],\"errors\":[{\"code\":3,\"message\":\"[PHP Warning #2] count(): Parameter must be an array or an object that implements Countable (153)\"}]}'''\n",
        "print(numbers)"
      ],
      "metadata": {
        "colab": {
          "base_uri": "https://localhost:8080/"
        },
        "id": "_-96AhwhXE_E",
        "outputId": "f889fe52-6fbe-4852-db0a-d3f75c3a99c9"
      },
      "execution_count": 2,
      "outputs": [
        {
          "output_type": "stream",
          "name": "stdout",
          "text": [
            "{\"orders\":[{\"id\":1},{\"id\":2},{\"id\":3},{\"id\":4},{\"id\":5},{\"id\":6},{\"id\":7},{\"id\":8},{\"id\":9},{\"id\":10},{\"id\":11},{\"id\":648},{\"id\":649},{\"id\":650},{\"id\":651},{\"id\":652},{\"id\":653}],\"errors\":[{\"code\":3,\"message\":\"[PHP Warning #2] count(): Parameter must be an array or an object that implements Countable (153)\"}]}\n"
          ]
        }
      ]
    },
    {
      "cell_type": "code",
      "source": [
        "data1= re.findall(':\\d+',numbers)\n",
        "data1= re.findall('\\d+',' '.join(data1))\n",
        "data1 = np.array([int(val)for val in data1])\n",
        "print(data1)"
      ],
      "metadata": {
        "colab": {
          "base_uri": "https://localhost:8080/"
        },
        "id": "20pP7ie1XE8h",
        "outputId": "f441abd8-f33c-4cca-c049-500147b5272d"
      },
      "execution_count": 4,
      "outputs": [
        {
          "output_type": "stream",
          "name": "stdout",
          "text": [
            "[  1   2   3   4   5   6   7   8   9  10  11 648 649 650 651 652 653   3]\n"
          ]
        }
      ]
    },
    {
      "cell_type": "markdown",
      "source": [
        "Write about any difficult problem that you solved. (According to us difficult - is something which 90% of people would have only 10% probability in getting a similarly good solution). \n"
      ],
      "metadata": {
        "id": "slO77Jmmas59"
      }
    },
    {
      "cell_type": "markdown",
      "source": [
        "i did my chennai house price particd as my project from that \n",
        "\n",
        " first we  should clean the data set in my project i did spelling correction ,and null vallu removed, years to object to datetime formate and unwanted columes like id number ,customer id etc\n",
        " \n",
        " after that we should focus on EDA\n",
        "  in eda process we can find the importance of future and distrubustion between traget and future by data vzulztion \n",
        "  from that we can get good data set to modeling \n",
        "     \n",
        "     FOR NLP \n",
        "      \n",
        "    data cleaning and preprocessiing\n",
        "       \n",
        "       remove strings, stop word,sentence tokenestion,word tonkenestion,punctuvaton removal,lemmatistion,root wors extract,part of speech\n",
        "       after we should vectorization the data by bag of words model,tf -idf\n",
        "\n",
        "     this are we should fouces while working on dataset so we can redues the problem when we oing modeling  \n",
        "\n",
        "    "
      ],
      "metadata": {
        "id": "AK9TfoeWa31Z"
      }
    },
    {
      "cell_type": "code",
      "source": [
        ""
      ],
      "metadata": {
        "id": "nTHPYyJJZ_CU"
      },
      "execution_count": null,
      "outputs": []
    },
    {
      "cell_type": "markdown",
      "source": [
        "Formally, a vector space V' is a subspace of a vector space V if\n",
        "\n",
        "V' is a vector space\n",
        "\n",
        "every element of V′ is also an element of V.\n",
        "\n",
        "Note that ordered pairs of real numbers (a,b) a,b∈R form a vector space V. \n",
        "Which of the following is a subspace of V?\n",
        "\n",
        "The set of pairs (a, a + 1) for all real a\n",
        "\n",
        "The set of pairs (a, b) for all real a ≥ b\n",
        "\n",
        "The set of pairs (a, 2a) for all real a\n",
        "\n",
        "The set of pairs (a, b) for all non-negative real a,b\n"
      ],
      "metadata": {
        "id": "D4CjY3D4gF-i"
      }
    },
    {
      "cell_type": "code",
      "source": [
        "# The set of pairs (a, b) for all real a ≥ b"
      ],
      "metadata": {
        "id": "jysIjX8hZ-_z"
      },
      "execution_count": null,
      "outputs": []
    },
    {
      "cell_type": "code",
      "source": [
        ""
      ],
      "metadata": {
        "id": "q4mwtm3egAjx"
      },
      "execution_count": null,
      "outputs": []
    },
    {
      "cell_type": "code",
      "source": [
        ""
      ],
      "metadata": {
        "id": "tMmtb6glgAfO"
      },
      "execution_count": null,
      "outputs": []
    }
  ]
}